{
 "cells": [
  {
   "cell_type": "code",
   "execution_count": 1,
   "metadata": {},
   "outputs": [],
   "source": [
    "import csv"
   ]
  },
  {
   "cell_type": "code",
   "execution_count": 2,
   "metadata": {},
   "outputs": [],
   "source": [
    "sentences_covid=[]\n",
    "with open('sentence_covid.txt','r', encoding='UTF8') as f:\n",
    "    reader = csv.reader(f)\n",
    "    \n",
    "    for r in reader:\n",
    "        sentences_covid.append(*r)"
   ]
  },
  {
   "cell_type": "code",
   "execution_count": 3,
   "metadata": {
    "scrolled": false
   },
   "outputs": [],
   "source": [
    "word_count=dict()\n",
    "bigram_count=dict()\n",
    "trigram_count=dict()\n",
    "\n",
    "for s in sentences_covid:\n",
    "    words = s.split()\n",
    "    word_cnt = len(words)\n",
    "    \n",
    "    for i in range(word_cnt):\n",
    "        if i < word_cnt-2:\n",
    "            trigram = str(words[i]+\" \"+words[i+1]+\" \"+words[i+2])\n",
    "            bigram = str(words[i]+\" \"+words[i+1])\n",
    "\n",
    "            # 단수명사\n",
    "            if words[i] not in word_count:\n",
    "                word_count[words[i]] = 1\n",
    "            else:\n",
    "                word_count[words[i]] = word_count[words[i]]+1\n",
    "            \n",
    "            # 복합명사 bigram\n",
    "            if bigram not in bigram_count:\n",
    "                bigram_count[bigram] = 1\n",
    "            else:\n",
    "                bigram_count[bigram] = bigram_count[bigram]+1\n",
    "            \n",
    "            # 복합 명사 trigram\n",
    "            if trigram not in trigram_count:\n",
    "                trigram_count[trigram] = 1\n",
    "            else:\n",
    "                trigram_count[trigram] = trigram_count[trigram]+1\n",
    "\n",
    "        elif i < word_cnt-1:\n",
    "            bigram = str(words[i]+\" \"+words[i+1])\n",
    "\n",
    "            # 단수명사\n",
    "            if words[i] not in word_count:\n",
    "                word_count[words[i]] = 1\n",
    "            else:\n",
    "                word_count[words[i]] = word_count[words[i]]+1\n",
    "            \n",
    "            # 복합명사 bigram\n",
    "            if bigram not in bigram_count:\n",
    "                bigram_count[bigram] = 1\n",
    "            else:\n",
    "                bigram_count[bigram] = bigram_count[bigram]+1\n",
    "\n",
    "        else:\n",
    "            if words[i] not in word_count:\n",
    "                word_count[words[i]] = 1\n",
    "            else:\n",
    "                word_count[words[i]] = word_count[words[i]]+1"
   ]
  },
  {
   "cell_type": "code",
   "execution_count": 3,
   "metadata": {},
   "outputs": [],
   "source": [
    "word4_count=dict()\n",
    "word5_count=dict()\n",
    "\n",
    "for s in sentences_covid:\n",
    "    words = s.split()\n",
    "    word_cnt = len(words)\n",
    "    \n",
    "    if word_cnt > 4:\n",
    "        for i in range(word_cnt):\n",
    "            if (word_cnt > 5) and (i < word_cnt-4):\n",
    "                word5 = str(words[i]+\" \"+words[i+1]+\" \"+words[i+2]+\" \"+words[i+3]+\" \"+words[i+4])\n",
    "                word4 = str(words[i]+\" \"+words[i+1]+\" \"+words[i+2]+\" \"+words[i+3])\n",
    "\n",
    "                # 복합명사 5개\n",
    "                if word5 not in word5_count:\n",
    "                    word5_count[word5] = 1\n",
    "                else:\n",
    "                    word5_count[word5] = word5_count[word5]+1\n",
    "\n",
    "                # 복합 명사 4개\n",
    "                if word4 not in word4_count:\n",
    "                    word4_count[word4] = 1\n",
    "                else:\n",
    "                    word4_count[word4] = word4_count[word4]+1\n",
    "            elif i < word_cnt-3:\n",
    "                word4 = str(words[i]+\" \"+words[i+1]+\" \"+words[i+2]+\" \"+words[i+3])\n",
    "                \n",
    "                # 복합 명사 4개\n",
    "                if word4 not in word4_count:\n",
    "                    word4_count[word4] = 1\n",
    "                else:\n",
    "                    word4_count[word4] = word4_count[word4]+1"
   ]
  },
  {
   "cell_type": "code",
   "execution_count": 4,
   "metadata": {},
   "outputs": [],
   "source": [
    "word_key = list(word_count.keys())\n",
    "bigram_key = list(bigram_count.keys())\n",
    "trigram_key = list(trigram_count.keys())"
   ]
  },
  {
   "cell_type": "code",
   "execution_count": 5,
   "metadata": {},
   "outputs": [],
   "source": [
    "word4_key = list(word4_count.keys())\n",
    "word5_key = list(word5_count.keys())"
   ]
  },
  {
   "cell_type": "code",
   "execution_count": 5,
   "metadata": {},
   "outputs": [],
   "source": [
    "word_count_list=[]\n",
    "bigram_count_list=[]\n",
    "trigram_count_list=[]\n",
    "\n",
    "for k in word_key:\n",
    "    word_count_list.append([k,word_count[k]])\n",
    "\n",
    "for k in bigram_key:\n",
    "    if bigram_count[k] != 1:\n",
    "        bigram_count_list.append([k,bigram_count[k]])\n",
    "\n",
    "for k in trigram_key:\n",
    "    if trigram_count[k] != 1:\n",
    "        trigram_count_list.append([k,trigram_count[k]])"
   ]
  },
  {
   "cell_type": "code",
   "execution_count": 9,
   "metadata": {},
   "outputs": [],
   "source": [
    "word4_count_list=[]\n",
    "word5_count_list=[]\n",
    "\n",
    "for k in word4_key:\n",
    "    if word4_count[k] != 1:\n",
    "        word4_count_list.append([k,word4_count[k]])\n",
    "\n",
    "for k in word5_key:\n",
    "    if word5_count[k] != 1:\n",
    "        word5_count_list.append([k,word5_count[k]])"
   ]
  },
  {
   "cell_type": "code",
   "execution_count": 6,
   "metadata": {},
   "outputs": [
    {
     "data": {
      "text/plain": [
       "(20206, 60278, 36750)"
      ]
     },
     "execution_count": 6,
     "metadata": {},
     "output_type": "execute_result"
    }
   ],
   "source": [
    "len(word_count_list), len(bigram_count_list), len(trigram_count_list)\n",
    "# len(word4_count_list), len(word5_count_list)"
   ]
  },
  {
   "cell_type": "code",
   "execution_count": 7,
   "metadata": {},
   "outputs": [],
   "source": [
    "csvfile = open(\"word_count_covid.csv\", \"w\", newline=\"\", encoding='UTF8')\n",
    "\n",
    "csvwriter = csv.writer(csvfile)\n",
    "for row in word_count_list:\n",
    "    csvwriter.writerow(row)\n",
    "\n",
    "csvfile.close()"
   ]
  },
  {
   "cell_type": "code",
   "execution_count": 8,
   "metadata": {},
   "outputs": [],
   "source": [
    "csvfile = open(\"bigram_count_covid.csv\", \"w\", newline=\"\", encoding='UTF8')\n",
    "\n",
    "csvwriter = csv.writer(csvfile)\n",
    "for row in bigram_count_list:\n",
    "    csvwriter.writerow(row)\n",
    "\n",
    "csvfile.close()"
   ]
  },
  {
   "cell_type": "code",
   "execution_count": 9,
   "metadata": {},
   "outputs": [],
   "source": [
    "csvfile = open(\"trigram_count_covid.csv\", \"w\", newline=\"\", encoding='UTF8')\n",
    "\n",
    "csvwriter = csv.writer(csvfile)\n",
    "for row in trigram_count_list:\n",
    "    csvwriter.writerow(row)\n",
    "\n",
    "csvfile.close()"
   ]
  },
  {
   "cell_type": "code",
   "execution_count": 11,
   "metadata": {},
   "outputs": [],
   "source": [
    "csvfile = open(\"word4_count_covid.csv\", \"w\", newline=\"\", encoding='UTF8')\n",
    "\n",
    "csvwriter = csv.writer(csvfile)\n",
    "for row in word4_count_list:\n",
    "    csvwriter.writerow(row)\n",
    "\n",
    "csvfile.close()"
   ]
  },
  {
   "cell_type": "code",
   "execution_count": 12,
   "metadata": {},
   "outputs": [],
   "source": [
    "csvfile = open(\"word5_count_covid.csv\", \"w\", newline=\"\", encoding='UTF8')\n",
    "\n",
    "csvwriter = csv.writer(csvfile)\n",
    "for row in word5_count_list:\n",
    "    csvwriter.writerow(row)\n",
    "\n",
    "csvfile.close()"
   ]
  }
 ],
 "metadata": {
  "kernelspec": {
   "display_name": "Python 3",
   "language": "python",
   "name": "python3"
  },
  "language_info": {
   "codemirror_mode": {
    "name": "ipython",
    "version": 3
   },
   "file_extension": ".py",
   "mimetype": "text/x-python",
   "name": "python",
   "nbconvert_exporter": "python",
   "pygments_lexer": "ipython3",
   "version": "3.7.7"
  }
 },
 "nbformat": 4,
 "nbformat_minor": 4
}
